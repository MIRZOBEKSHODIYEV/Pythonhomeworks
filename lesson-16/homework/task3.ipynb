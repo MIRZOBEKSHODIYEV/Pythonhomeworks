{
 "cells": [
  {
   "cell_type": "markdown",
   "metadata": {},
   "source": [
    " Solve the system of equations"
   ]
  },
  {
   "cell_type": "markdown",
   "metadata": {},
   "source": [
    "1. \\(4x + 5y + 6z = 7\\)  \n",
    "2. \\(3x - y + z = 4\\)  \n",
    "3. \\(2x + y - 2z = 5\\)  "
   ]
  },
  {
   "cell_type": "code",
   "execution_count": 4,
   "metadata": {},
   "outputs": [
    {
     "name": "stdout",
     "output_type": "stream",
     "text": [
      "x=[1.7027027] , y=[0.62162162] and z=[-0.48648649]\n"
     ]
    }
   ],
   "source": [
    "import numpy as np\n",
    "A=np.array([\n",
    "    [4, 5, 6],\n",
    "    [3, -1, 1],\n",
    "    [2, 1, -2]\n",
    "])\n",
    "\n",
    "b=np.array([\n",
    "    [7],\n",
    "    [4],\n",
    "    [5]\n",
    "])\n",
    "(x, y, z) = np.linalg.solve(A, b)\n",
    "print(f'x={(x, y, z)[0]} , y={(x, y, z)[1]} and z={(x, y, z)[2]}')"
   ]
  }
 ],
 "metadata": {
  "kernelspec": {
   "display_name": "Python 3",
   "language": "python",
   "name": "python3"
  },
  "language_info": {
   "codemirror_mode": {
    "name": "ipython",
    "version": 3
   },
   "file_extension": ".py",
   "mimetype": "text/x-python",
   "name": "python",
   "nbconvert_exporter": "python",
   "pygments_lexer": "ipython3",
   "version": "3.13.1"
  }
 },
 "nbformat": 4,
 "nbformat_minor": 2
}
