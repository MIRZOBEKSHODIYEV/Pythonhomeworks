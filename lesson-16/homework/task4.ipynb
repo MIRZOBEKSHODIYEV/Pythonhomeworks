{
 "cells": [
  {
   "cell_type": "markdown",
   "metadata": {},
   "source": [
    "1. \\(10I_1 - 2I_2 + 3I_3 = 12\\)  \n",
    "2. \\(-2I_1 + 8I_2 - I_3 = -5\\)  \n",
    "3. \\(3I_1 - I_2 + 6I_3 = 15\\)  "
   ]
  },
  {
   "cell_type": "code",
   "execution_count": 1,
   "metadata": {},
   "outputs": [
    {
     "name": "stdout",
     "output_type": "stream",
     "text": [
      "I_1=[0.48963731] , I_2=[-0.2253886] and I_3=[2.21761658]\n"
     ]
    }
   ],
   "source": [
    "import numpy as np\n",
    "A=np.array([\n",
    "    [10, -2, 3],\n",
    "    [-2, 8, -1],\n",
    "    [3, -1, 6]\n",
    "])\n",
    "\n",
    "b=np.array([\n",
    "    [12],\n",
    "    [-5],\n",
    "    [15]\n",
    "])\n",
    "(I_1, I_2, I_3) = np.linalg.solve(A, b)\n",
    "print(f'I_1={(I_1, I_2, I_3)[0]} , I_2={(I_1, I_2, I_3)[1]} and I_3={(I_1, I_2, I_3)[2]}')"
   ]
  }
 ],
 "metadata": {
  "kernelspec": {
   "display_name": "Python 3",
   "language": "python",
   "name": "python3"
  },
  "language_info": {
   "codemirror_mode": {
    "name": "ipython",
    "version": 3
   },
   "file_extension": ".py",
   "mimetype": "text/x-python",
   "name": "python",
   "nbconvert_exporter": "python",
   "pygments_lexer": "ipython3",
   "version": "3.13.1"
  }
 },
 "nbformat": 4,
 "nbformat_minor": 2
}
