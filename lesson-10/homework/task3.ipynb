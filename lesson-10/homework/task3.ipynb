{
 "cells": [
  {
   "cell_type": "code",
   "execution_count": 1,
   "metadata": {},
   "outputs": [],
   "source": [
    "import json\n",
    "tasks=[\n",
    "    {\"id\": 1, \"task\": \"Do laundry\", \"completed\": False, \"priority\": 3},\n",
    "    {\"id\": 2, \"task\": \"Buy groceries\", \"completed\": True, \"priority\": 2},\n",
    "    {\"id\": 3, \"task\": \"Finish homework\", \"completed\": False, \"priority\": 1}\n",
    "]\n",
    "with open(\"tasks.json\", \"w\") as file:\n",
    "    json.dump(tasks, file, indent=4)"
   ]
  }
 ],
 "metadata": {
  "kernelspec": {
   "display_name": "Python 3",
   "language": "python",
   "name": "python3"
  },
  "language_info": {
   "codemirror_mode": {
    "name": "ipython",
    "version": 3
   },
   "file_extension": ".py",
   "mimetype": "text/x-python",
   "name": "python",
   "nbconvert_exporter": "python",
   "pygments_lexer": "ipython3",
   "version": "3.10.11"
  }
 },
 "nbformat": 4,
 "nbformat_minor": 2
}
