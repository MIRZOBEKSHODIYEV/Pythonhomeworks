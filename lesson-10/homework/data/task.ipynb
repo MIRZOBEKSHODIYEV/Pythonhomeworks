{
 "cells": [
  {
   "cell_type": "markdown",
   "metadata": {},
   "source": [
    "```  \n",
    "```\n"
   ]
  },
  {
   "cell_type": "code",
   "execution_count": null,
   "metadata": {},
   "outputs": [],
   "source": []
  },
  {
   "cell_type": "markdown",
   "metadata": {},
   "source": [
    "task2"
   ]
  },
  {
   "cell_type": "code",
   "execution_count": null,
   "metadata": {},
   "outputs": [],
   "source": [
    "import csv\n",
    "\n",
    "data = [\n",
    "    [\"Name\", \"Subject\", \"Grade\"],\n",
    "    [\"Alice\", \"Math\", 85],\n",
    "    [\"Bob\", \"Science\", 78],\n",
    "    [\"Carol\", \"Math\", 92]\n",
    "]\n",
    "\n",
    "\n",
    "with open(\"grades.csv\", mode=\"w\") as file:\n",
    "    writer = csv.writer(file)\n",
    "    writer.writerows(data)\n",
    "\n"
   ]
  },
  {
   "cell_type": "code",
   "execution_count": 9,
   "metadata": {},
   "outputs": [
    {
     "name": "stdout",
     "output_type": "stream",
     "text": [
      "average_grades.csv file created successfully.\n"
     ]
    }
   ],
   "source": [
    "import csv\n",
    "from collections import defaultdict\n",
    "\n",
    "# Read data from grades.csv\n",
    "grades = []\n",
    "with open(\"grades.csv\", mode=\"r\") as file:\n",
    "    reader = csv.DictReader(file)\n",
    "    for row in reader:\n",
    "        row[\"Grade\"] = int(row[\"Grade\"])  # Convert grade to integer\n",
    "        grades.append(row)\n",
    "\n",
    "# Calculate average grade per subject\n",
    "subject_grades = defaultdict(list)\n",
    "for entry in grades:\n",
    "    subject_grades[entry[\"Subject\"]].append(entry[\"Grade\"])\n",
    "\n",
    "average_grades = {subject: sum(grades) / len(grades) for subject, grades in subject_grades.items()}\n",
    "\n",
    "# Write to average_grades.csv\n",
    "with open(\"average_grades.csv\", mode=\"w\", newline=\"\") as file:\n",
    "    writer = csv.writer(file)\n",
    "    writer.writerow([\"Subject\", \"Average Grade\"])\n",
    "    for subject, avg in average_grades.items():\n",
    "        writer.writerow([subject, round(avg, 1)])\n",
    "\n",
    "print(\"average_grades.csv file created successfully.\")\n"
   ]
  }
 ],
 "metadata": {
  "kernelspec": {
   "display_name": "Python 3",
   "language": "python",
   "name": "python3"
  },
  "language_info": {
   "codemirror_mode": {
    "name": "ipython",
    "version": 3
   },
   "file_extension": ".py",
   "mimetype": "text/x-python",
   "name": "python",
   "nbconvert_exporter": "python",
   "pygments_lexer": "ipython3",
   "version": "3.10.11"
  }
 },
 "nbformat": 4,
 "nbformat_minor": 2
}
