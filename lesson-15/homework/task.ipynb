{
 "cells": [
  {
   "cell_type": "code",
   "execution_count": 6,
   "metadata": {},
   "outputs": [],
   "source": [
    "import numpy as np\n"
   ]
  },
  {
   "cell_type": "code",
   "execution_count": 7,
   "metadata": {},
   "outputs": [
    {
     "data": {
      "text/plain": [
       "array([10, 11, 12, 13, 14, 15, 16, 17, 18, 19, 20, 21, 22, 23, 24, 25, 26,\n",
       "       27, 28, 29, 30, 31, 32, 33, 34, 35, 36, 37, 38, 39, 40, 41, 42, 43,\n",
       "       44, 45, 46, 47, 48])"
      ]
     },
     "execution_count": 7,
     "metadata": {},
     "output_type": "execute_result"
    }
   ],
   "source": [
    "a=np.arange(10, 49)\n",
    "a"
   ]
  },
  {
   "cell_type": "code",
   "execution_count": 8,
   "metadata": {},
   "outputs": [
    {
     "data": {
      "text/plain": [
       "array([[3, 5, 6],\n",
       "       [7, 8, 0],\n",
       "       [1, 2, 4]])"
      ]
     },
     "execution_count": 8,
     "metadata": {},
     "output_type": "execute_result"
    }
   ],
   "source": [
    "\"\"\"Matrix 3x3\"\"\"\n",
    "a=np.array([\n",
    "    [3, 5, 6],\n",
    "    [7, 8, 0], \n",
    "    [1, 2, 4]\n",
    "])\n",
    "a\n"
   ]
  },
  {
   "cell_type": "code",
   "execution_count": 9,
   "metadata": {},
   "outputs": [
    {
     "data": {
      "text/plain": [
       "array([[1., 0., 0.],\n",
       "       [0., 1., 0.],\n",
       "       [0., 0., 1.]])"
      ]
     },
     "execution_count": 9,
     "metadata": {},
     "output_type": "execute_result"
    }
   ],
   "source": [
    "\"\"\"Create a 3x3 identity matrix\"\"\"\n",
    "identity_matrix = np.identity(3)\n",
    "\n",
    "identity_matrix"
   ]
  },
  {
   "cell_type": "code",
   "execution_count": 10,
   "metadata": {},
   "outputs": [
    {
     "data": {
      "text/plain": [
       "array([[[0.46789398, 0.17475735, 0.61931011],\n",
       "        [0.92410781, 0.08725376, 0.27438889],\n",
       "        [0.80369156, 0.28338455, 0.63341588]],\n",
       "\n",
       "       [[0.39704853, 0.20495859, 0.74692808],\n",
       "        [0.78394264, 0.7962399 , 0.02619459],\n",
       "        [0.75103952, 0.93196007, 0.0495909 ]],\n",
       "\n",
       "       [[0.50851332, 0.71906388, 0.42990584],\n",
       "        [0.5599415 , 0.08104365, 0.75923084],\n",
       "        [0.57450036, 0.06877712, 0.72232615]]])"
      ]
     },
     "execution_count": 10,
     "metadata": {},
     "output_type": "execute_result"
    }
   ],
   "source": [
    "\"\"\"Create a 3x3x3 array with random values\"\"\"\n",
    "random=np.random.random((3,3,3))\n",
    "random"
   ]
  },
  {
   "cell_type": "code",
   "execution_count": 11,
   "metadata": {},
   "outputs": [
    {
     "name": "stdout",
     "output_type": "stream",
     "text": [
      "max_value is 0.9970567946964161, min_value is 0.0203753405804602\n"
     ]
    }
   ],
   "source": [
    "'''Create a 10x10 array with random values and find the minimum and maximum values.'''\n",
    "random=np.random.random((10, 10))\n",
    "max_value=np.max(random)\n",
    "min_value=np.min(random)\n",
    "print(f'max_value is {max_value}, min_value is {min_value}')"
   ]
  },
  {
   "cell_type": "code",
   "execution_count": 12,
   "metadata": {},
   "outputs": [
    {
     "name": "stdout",
     "output_type": "stream",
     "text": [
      "mean_value in 59.0\n"
     ]
    }
   ],
   "source": [
    "\"\"\"Create a random vector of size 30 and find the mean value.\"\"\"\n",
    "a=np.arange(30, 89, 2)\n",
    "mean_value = np.mean(a)\n",
    "print(f'mean_value in {mean_value}')"
   ]
  },
  {
   "cell_type": "code",
   "execution_count": 13,
   "metadata": {},
   "outputs": [
    {
     "name": "stdout",
     "output_type": "stream",
     "text": [
      "normalized_matrix is  [[0.97594035 0.1031764  0.75596828 1.         0.20541731]\n",
      " [0.71509157 0.42293785 0.43328725 0.77821593 0.4083773 ]\n",
      " [0.9274298  0.72012708 0.47202098 0.92526536 0.3362427 ]\n",
      " [0.3472986  0.8649937  0.57389185 0.50427919 0.27398956]\n",
      " [0.4467339  0.9621227  0.         0.78187483 0.93616498]]\n"
     ]
    }
   ],
   "source": [
    "'''Normalize a 5x5 random matrix'''\n",
    "\n",
    "random_matrix = np.random.random((5, 5))\n",
    "normalized_matrix = (random_matrix - np.min(random_matrix)) / (np.max(random_matrix) - np.min(random_matrix))\n",
    "print(f'normalized_matrix is  {normalized_matrix}')\n"
   ]
  },
  {
   "cell_type": "code",
   "execution_count": 14,
   "metadata": {},
   "outputs": [
    {
     "name": "stdout",
     "output_type": "stream",
     "text": [
      "Multiply two matrix: [[0.57611195 0.8722221 ]\n",
      " [0.50176285 0.63818683]\n",
      " [0.65352088 1.04230779]\n",
      " [0.39144167 1.03097232]\n",
      " [0.48582549 0.92549532]]\n"
     ]
    }
   ],
   "source": [
    "'''Multiply a 5x3 matrix by a 3x2 matrix (real matrix product).'''\n",
    "A=np.random.random((5, 3))\n",
    "B= np.random.random((3, 2))\n",
    "C=np.dot(A, B)\n",
    "print(f'Multiply two matrix: {C}')"
   ]
  },
  {
   "cell_type": "code",
   "execution_count": 16,
   "metadata": {},
   "outputs": [
    {
     "name": "stdout",
     "output_type": "stream",
     "text": [
      "[[ 36  21  56]\n",
      " [ 43  21  69]\n",
      " [ 63  56 109]]\n"
     ]
    }
   ],
   "source": [
    "\"\"\"Create two 3x3 matrices and compute their dot product.\"\"\"\n",
    "A=([\n",
    "    [2, 3, 5],\n",
    "    [5, 1, 7],\n",
    "    [9, 8, 6]\n",
    "])\n",
    "B=([\n",
    "    [1, 2, 3],\n",
    "    [3, 4, 5],\n",
    "    [5, 1, 7]\n",
    "])\n",
    "multiply=np.dot(A, B)\n",
    "print(multiply)"
   ]
  },
  {
   "cell_type": "code",
   "execution_count": 24,
   "metadata": {},
   "outputs": [
    {
     "name": "stdout",
     "output_type": "stream",
     "text": [
      "[[0.37058587 0.27594516 0.02892735 0.85966013]\n",
      " [0.99416415 0.09925521 0.66042254 0.47747146]\n",
      " [0.32712546 0.31992715 0.223232   0.73773953]\n",
      " [0.18136898 0.60379684 0.12841261 0.17010165]]\n",
      " this matrix transponse   \n",
      "[[0.37058587 0.99416415 0.32712546 0.18136898]\n",
      " [0.27594516 0.09925521 0.31992715 0.60379684]\n",
      " [0.02892735 0.66042254 0.223232   0.12841261]\n",
      " [0.85966013 0.47747146 0.73773953 0.17010165]]\n"
     ]
    }
   ],
   "source": [
    "'''Given a 4x4 matrix, find its transpose.'''\n",
    "matrix=np.random.rand(4,4)\n",
    "matrix_transponse=np.transpose(matrix)\n",
    "print(matrix)\n",
    "print(f' this matrix transponse   ')\n",
    "print(matrix_transponse)"
   ]
  },
  {
   "cell_type": "code",
   "execution_count": 31,
   "metadata": {},
   "outputs": [
    {
     "name": "stdout",
     "output_type": "stream",
     "text": [
      "[[0.0296911  0.76213501 0.03879068]\n",
      " [0.59795535 0.91820111 0.23469532]\n",
      " [0.15570048 0.67081038 0.11206449]] determinat equal -0.014825738299240157\n"
     ]
    }
   ],
   "source": [
    "'''Create a 3x3 matrix and calculate its determinant.'''\n",
    "matrix=np.random.rand(3,3)\n",
    "determinant=np.linalg.det(matrix)\n",
    "print(f'{matrix} determinat equal {determinant}')"
   ]
  },
  {
   "cell_type": "code",
   "execution_count": 32,
   "metadata": {},
   "outputs": [
    {
     "name": "stdout",
     "output_type": "stream",
     "text": [
      "A equal[[0.91380267 0.69882965 0.4922445  0.11416892]\n",
      " [0.44117586 0.26630439 0.11054404 0.12728349]\n",
      " [0.49222782 0.52108686 0.35720382 0.88256941]]\n",
      "B equal[[0.06243322 0.58632074 0.62542251]\n",
      " [0.36091886 0.05010873 0.59554838]\n",
      " [0.20652308 0.48390482 0.40021827]\n",
      " [0.44030802 0.1932414  0.03562435]]\n",
      "C equal[[0.46120179 0.83106058 1.18877206]\n",
      " [0.20253215 0.35010397 0.4832946 ]\n",
      " [0.68117467 0.65811599 0.79258325]]\n"
     ]
    },
    {
     "name": "stderr",
     "output_type": "stream",
     "text": [
      "<>:1: SyntaxWarning: invalid escape sequence '\\c'\n",
      "<>:1: SyntaxWarning: invalid escape sequence '\\c'\n",
      "C:\\Users\\user\\AppData\\Local\\Temp\\ipykernel_108204\\2616956178.py:1: SyntaxWarning: invalid escape sequence '\\c'\n",
      "  '''Create two matrices ( A ) (3x4) and ( B ) (4x3), and compute the matrix product ( A \\cdot B ).'''\n"
     ]
    }
   ],
   "source": [
    "'''Create two matrices ( A ) (3x4) and ( B ) (4x3), and compute the matrix product ( A \\cdot B ).'''\n",
    "A=np.random.random((3, 4))\n",
    "B= np.random.random((4, 3))\n",
    "C=np.dot(A, B)\n",
    "print(f'A equal{A}')\n",
    "print(f'B equal{B}')\n",
    "print(f'C equal{C}')"
   ]
  },
  {
   "cell_type": "code",
   "execution_count": 40,
   "metadata": {},
   "outputs": [
    {
     "name": "stdout",
     "output_type": "stream",
     "text": [
      " [[0.73403178 0.38288578 0.65988853]\n",
      " [0.28714959 0.93590727 0.15247612]\n",
      " [0.21573303 0.09611601 0.6997032 ]], and [[3]\n",
      " [2]\n",
      " [5]] multiple equal\n",
      "[[6.26730954]\n",
      " [3.4956439 ]\n",
      " [4.33794709]]\n"
     ]
    }
   ],
   "source": [
    "'''Create a 3x3 random matrix and a 3-element column vector. Compute the matrix-vector product.'''\n",
    "matrix=np.random.random((3,3))\n",
    "vector=np.array([\n",
    "    [3], \n",
    "    [2],\n",
    "    [5]  \n",
    "      ])\n",
    "multiply=np.dot(matrix, vector)\n",
    "print(f' {matrix}, and {vector} multiple equal')\n",
    "print(multiply)"
   ]
  },
  {
   "cell_type": "code",
   "execution_count": 42,
   "metadata": {},
   "outputs": [
    {
     "name": "stdout",
     "output_type": "stream",
     "text": [
      "[[-1.85]\n",
      " [-0.8 ]\n",
      " [ 2.15]]\n"
     ]
    }
   ],
   "source": [
    "'''Solve the linear system ( Ax = b ) where ( A ) is a 3x3 matrix, and ( b ) is a 3x1 column vector.'''\n",
    "A=np.array([\n",
    "    [1, 2, 3],\n",
    "    [3, 4, 5],\n",
    "    [5, 1, 7]\n",
    "])\n",
    "\n",
    "b=np.array([\n",
    "    [3], \n",
    "    [2],\n",
    "    [5]  \n",
    "      ])\n",
    "x = np.linalg.solve(A, b)\n",
    "print(x)\n"
   ]
  },
  {
   "cell_type": "code",
   "execution_count": 44,
   "metadata": {},
   "outputs": [
    {
     "name": "stdout",
     "output_type": "stream",
     "text": [
      "Row-wise sums: [2.48947311 2.32224077 2.45181412 3.07095114 2.19143451]\n",
      "Column-wise sums: [2.31236397 2.37506378 3.08693163 2.40692244 2.34463183]\n"
     ]
    }
   ],
   "source": [
    "'''Given a 5x5 matrix, find the row-wise and column-wise sums.'''\n",
    "matrix=np.random.random((5,5))\n",
    "row_sums = np.sum(matrix, axis=1)\n",
    "column_sums = np.sum(matrix, axis=0)\n",
    "print(\"Row-wise sums:\", row_sums)\n",
    "print(\"Column-wise sums:\", column_sums)"
   ]
  }
 ],
 "metadata": {
  "kernelspec": {
   "display_name": "Python 3",
   "language": "python",
   "name": "python3"
  },
  "language_info": {
   "codemirror_mode": {
    "name": "ipython",
    "version": 3
   },
   "file_extension": ".py",
   "mimetype": "text/x-python",
   "name": "python",
   "nbconvert_exporter": "python",
   "pygments_lexer": "ipython3",
   "version": "3.13.1"
  }
 },
 "nbformat": 4,
 "nbformat_minor": 2
}
