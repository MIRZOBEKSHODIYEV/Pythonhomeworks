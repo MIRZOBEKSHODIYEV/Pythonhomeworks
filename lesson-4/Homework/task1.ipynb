{
 "cells": [
  {
   "cell_type": "code",
   "execution_count": null,
   "metadata": {},
   "outputs": [],
   "source": [
    "n= 1\n",
    "\n",
    "while n<5 :\n",
    "    print(n**2)\n",
    "    n += 1\n",
    "\n",
    "print(\"outside\")"
   ]
  },
  {
   "cell_type": "code",
   "execution_count": null,
   "metadata": {},
   "outputs": [],
   "source": [
    "txt = \"abcabcdabcdeabcdefabcdefgAssalomHello\"\n",
    "vowels = \"aeiouAEIOU\"  \n",
    "result = \"\"  \n",
    "\n",
    "for i, char in enumerate(txt):\n",
    "    result += char\n",
    "    if (i + 1) % 3 == 0 or char in vowels:  \n",
    "        if i < len(txt) - 1:  \n",
    "            result += \"_\"\n",
    "\n",
    "print(result)\n"
   ]
  }
 ],
 "metadata": {
  "language_info": {
   "name": "python"
  }
 },
 "nbformat": 4,
 "nbformat_minor": 2
}
